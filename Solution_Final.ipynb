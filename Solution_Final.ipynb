{
  "cells": [
    {
      "cell_type": "code",
      "execution_count": 1,
      "metadata": {
        "colab": {
          "base_uri": "https://localhost:8080/",
          "height": 375
        },
        "id": "BphJzgL-1n8Y",
        "outputId": "26c3e6f6-1a75-40da-9bf9-8a41e4029fec"
      },
      "outputs": [],
      "source": [
        "import pickle\n",
        "import string\n",
        "import annoy\n",
        "\n",
        "import pandas as pd\n",
        "import numpy as np\n",
        "\n",
        "from sklearn.model_selection import train_test_split\n",
        "from pymorphy2 import MorphAnalyzer\n",
        "from stop_words import get_stop_words\n",
        "from gensim.models import FastText\n",
        "from tqdm import tqdm_notebook"
      ]
    },
    {
      "cell_type": "code",
      "execution_count": 2,
      "metadata": {
        "id": "tEW9k9Uq1n8c",
        "outputId": "dd5d20aa-c9ff-4707-f09f-79d0a5e50a53"
      },
      "outputs": [
        {
          "name": "stderr",
          "output_type": "stream",
          "text": [
            "C:\\Users\\vsevolod.volkov\\AppData\\Local\\Temp\\ipykernel_14100\\191298464.py:2: DtypeWarning: Columns (1) have mixed types. Specify dtype option on import or set low_memory=False.\n",
            "  checks = pd.read_csv(f\"{DIR}data.csv\")\n"
          ]
        },
        {
          "data": {
            "text/html": [
              "<div>\n",
              "<style scoped>\n",
              "    .dataframe tbody tr th:only-of-type {\n",
              "        vertical-align: middle;\n",
              "    }\n",
              "\n",
              "    .dataframe tbody tr th {\n",
              "        vertical-align: top;\n",
              "    }\n",
              "\n",
              "    .dataframe thead th {\n",
              "        text-align: right;\n",
              "    }\n",
              "</style>\n",
              "<table border=\"1\" class=\"dataframe\">\n",
              "  <thead>\n",
              "    <tr style=\"text-align: right;\">\n",
              "      <th></th>\n",
              "      <th>sale_date_date</th>\n",
              "      <th>contact_id</th>\n",
              "      <th>shop_id</th>\n",
              "      <th>product_id</th>\n",
              "      <th>product_sub_category_id</th>\n",
              "      <th>product_category_id</th>\n",
              "      <th>brand_id</th>\n",
              "      <th>quantity</th>\n",
              "    </tr>\n",
              "  </thead>\n",
              "  <tbody>\n",
              "    <tr>\n",
              "      <th>0</th>\n",
              "      <td>2018-12-07</td>\n",
              "      <td>1260627</td>\n",
              "      <td>1455.0</td>\n",
              "      <td>168308.0</td>\n",
              "      <td>906.0</td>\n",
              "      <td>205.0</td>\n",
              "      <td>-1.0</td>\n",
              "      <td>1,00</td>\n",
              "    </tr>\n",
              "    <tr>\n",
              "      <th>1</th>\n",
              "      <td>2018-12-07</td>\n",
              "      <td>198287</td>\n",
              "      <td>279.0</td>\n",
              "      <td>134832.0</td>\n",
              "      <td>404.0</td>\n",
              "      <td>93.0</td>\n",
              "      <td>-1.0</td>\n",
              "      <td>1,00</td>\n",
              "    </tr>\n",
              "    <tr>\n",
              "      <th>2</th>\n",
              "      <td>2018-12-07</td>\n",
              "      <td>2418385</td>\n",
              "      <td>848.0</td>\n",
              "      <td>101384.0</td>\n",
              "      <td>404.0</td>\n",
              "      <td>93.0</td>\n",
              "      <td>-1.0</td>\n",
              "      <td>1,00</td>\n",
              "    </tr>\n",
              "    <tr>\n",
              "      <th>3</th>\n",
              "      <td>2018-12-07</td>\n",
              "      <td>1285774</td>\n",
              "      <td>1511.0</td>\n",
              "      <td>168570.0</td>\n",
              "      <td>906.0</td>\n",
              "      <td>205.0</td>\n",
              "      <td>-1.0</td>\n",
              "      <td>1,00</td>\n",
              "    </tr>\n",
              "    <tr>\n",
              "      <th>4</th>\n",
              "      <td>2018-12-07</td>\n",
              "      <td>1810323</td>\n",
              "      <td>1501.0</td>\n",
              "      <td>168319.0</td>\n",
              "      <td>906.0</td>\n",
              "      <td>205.0</td>\n",
              "      <td>-1.0</td>\n",
              "      <td>1,00</td>\n",
              "    </tr>\n",
              "  </tbody>\n",
              "</table>\n",
              "</div>"
            ],
            "text/plain": [
              "  sale_date_date contact_id  shop_id  product_id  product_sub_category_id  \\\n",
              "0     2018-12-07    1260627   1455.0    168308.0                    906.0   \n",
              "1     2018-12-07     198287    279.0    134832.0                    404.0   \n",
              "2     2018-12-07    2418385    848.0    101384.0                    404.0   \n",
              "3     2018-12-07    1285774   1511.0    168570.0                    906.0   \n",
              "4     2018-12-07    1810323   1501.0    168319.0                    906.0   \n",
              "\n",
              "   product_category_id  brand_id quantity  \n",
              "0                205.0      -1.0     1,00  \n",
              "1                 93.0      -1.0     1,00  \n",
              "2                 93.0      -1.0     1,00  \n",
              "3                205.0      -1.0     1,00  \n",
              "4                205.0      -1.0     1,00  "
            ]
          },
          "execution_count": 2,
          "metadata": {},
          "output_type": "execute_result"
        }
      ],
      "source": [
        "DIR=\"..\\\\..\\\\chunk\\\\18\\\\\"\n",
        "checks = pd.read_csv(f\"{DIR}data.csv\")\n",
        "checks.drop(['name'], axis=1, inplace=True)\n",
        "\n",
        "with open(f\"{DIR}Product_dict.pkl\",\"rb\") as f:\n",
        "    product_dict = pickle.load(f)\n",
        "\n",
        "checks.head()"
      ]
    },
    {
      "cell_type": "code",
      "execution_count": 4,
      "metadata": {},
      "outputs": [
        {
          "data": {
            "text/plain": [
              "[('168308', '(197312) Пакет-майка 25см х 45см 906'),\n",
              " ('134832', '(62448) Перекись водорода р-р наружн. 3% фл.полимерн. 100мл 404'),\n",
              " ('101384', '(72183) Салициловая кислота р-р спирт 2% фл 40мл N1 404'),\n",
              " ('168570', '(197309) Пакет 28см х 50см 906'),\n",
              " ('146960', '(111023) Пакет \"Аптека Озерки\" 28 х 35см 906')]"
            ]
          },
          "execution_count": 4,
          "metadata": {},
          "output_type": "execute_result"
        }
      ],
      "source": [
        "#какие товары обращаются в продаже\n",
        "list(product_dict.items())[:5]\n",
        "#первое и второе числа в выборке из словаря:\n",
        "# product_id -ключ аптечной позиции в словаре\n",
        "# contact_id -касса, через которую прошла данная товарная позиция\n"
      ]
    },
    {
      "cell_type": "code",
      "execution_count": 5,
      "metadata": {
        "id": "6K9CNpd_1n8c",
        "outputId": "8d6cf1de-e516-4a4b-d6fb-8175a16d46aa"
      },
      "outputs": [
        {
          "data": {
            "text/html": [
              "<div>\n",
              "<style scoped>\n",
              "    .dataframe tbody tr th:only-of-type {\n",
              "        vertical-align: middle;\n",
              "    }\n",
              "\n",
              "    .dataframe tbody tr th {\n",
              "        vertical-align: top;\n",
              "    }\n",
              "\n",
              "    .dataframe thead th {\n",
              "        text-align: right;\n",
              "    }\n",
              "</style>\n",
              "<table border=\"1\" class=\"dataframe\">\n",
              "  <thead>\n",
              "    <tr style=\"text-align: right;\">\n",
              "      <th></th>\n",
              "      <th>sale_date_date</th>\n",
              "      <th>contact_id</th>\n",
              "      <th>shop_id</th>\n",
              "      <th>product_id</th>\n",
              "      <th>product_sub_category_id</th>\n",
              "      <th>product_category_id</th>\n",
              "      <th>brand_id</th>\n",
              "      <th>quantity</th>\n",
              "      <th>key_col</th>\n",
              "    </tr>\n",
              "  </thead>\n",
              "  <tbody>\n",
              "    <tr>\n",
              "      <th>0</th>\n",
              "      <td>2018-12-07</td>\n",
              "      <td>1260627</td>\n",
              "      <td>1455.0</td>\n",
              "      <td>168308.0</td>\n",
              "      <td>906.0</td>\n",
              "      <td>205.0</td>\n",
              "      <td>-1.0</td>\n",
              "      <td>1,00</td>\n",
              "      <td>2018-12-07_1260627_1455.0</td>\n",
              "    </tr>\n",
              "    <tr>\n",
              "      <th>1</th>\n",
              "      <td>2018-12-07</td>\n",
              "      <td>198287</td>\n",
              "      <td>279.0</td>\n",
              "      <td>134832.0</td>\n",
              "      <td>404.0</td>\n",
              "      <td>93.0</td>\n",
              "      <td>-1.0</td>\n",
              "      <td>1,00</td>\n",
              "      <td>2018-12-07_198287_279.0</td>\n",
              "    </tr>\n",
              "    <tr>\n",
              "      <th>2</th>\n",
              "      <td>2018-12-07</td>\n",
              "      <td>2418385</td>\n",
              "      <td>848.0</td>\n",
              "      <td>101384.0</td>\n",
              "      <td>404.0</td>\n",
              "      <td>93.0</td>\n",
              "      <td>-1.0</td>\n",
              "      <td>1,00</td>\n",
              "      <td>2018-12-07_2418385_848.0</td>\n",
              "    </tr>\n",
              "    <tr>\n",
              "      <th>3</th>\n",
              "      <td>2018-12-07</td>\n",
              "      <td>1285774</td>\n",
              "      <td>1511.0</td>\n",
              "      <td>168570.0</td>\n",
              "      <td>906.0</td>\n",
              "      <td>205.0</td>\n",
              "      <td>-1.0</td>\n",
              "      <td>1,00</td>\n",
              "      <td>2018-12-07_1285774_1511.0</td>\n",
              "    </tr>\n",
              "    <tr>\n",
              "      <th>4</th>\n",
              "      <td>2018-12-07</td>\n",
              "      <td>1810323</td>\n",
              "      <td>1501.0</td>\n",
              "      <td>168319.0</td>\n",
              "      <td>906.0</td>\n",
              "      <td>205.0</td>\n",
              "      <td>-1.0</td>\n",
              "      <td>1,00</td>\n",
              "      <td>2018-12-07_1810323_1501.0</td>\n",
              "    </tr>\n",
              "  </tbody>\n",
              "</table>\n",
              "</div>"
            ],
            "text/plain": [
              "  sale_date_date contact_id  shop_id  product_id  product_sub_category_id  \\\n",
              "0     2018-12-07    1260627   1455.0    168308.0                    906.0   \n",
              "1     2018-12-07     198287    279.0    134832.0                    404.0   \n",
              "2     2018-12-07    2418385    848.0    101384.0                    404.0   \n",
              "3     2018-12-07    1285774   1511.0    168570.0                    906.0   \n",
              "4     2018-12-07    1810323   1501.0    168319.0                    906.0   \n",
              "\n",
              "   product_category_id  brand_id quantity                    key_col  \n",
              "0                205.0      -1.0     1,00  2018-12-07_1260627_1455.0  \n",
              "1                 93.0      -1.0     1,00    2018-12-07_198287_279.0  \n",
              "2                 93.0      -1.0     1,00   2018-12-07_2418385_848.0  \n",
              "3                205.0      -1.0     1,00  2018-12-07_1285774_1511.0  \n",
              "4                205.0      -1.0     1,00  2018-12-07_1810323_1501.0  "
            ]
          },
          "execution_count": 5,
          "metadata": {},
          "output_type": "execute_result"
        }
      ],
      "source": [
        "# Создадим ключевую колонку: время + касса + магазин\n",
        "checks['key_col'] = checks['sale_date_date'].apply(str) + \"_\" + checks['contact_id'].apply(str) + \"_\" + checks['shop_id'].apply(str)\n",
        "checks.head()"
      ]
    },
    {
      "cell_type": "code",
      "execution_count": 6,
      "metadata": {
        "id": "4PkcECXI1n8d"
      },
      "outputs": [
        {
          "data": {
            "text/html": [
              "<div>\n",
              "<style scoped>\n",
              "    .dataframe tbody tr th:only-of-type {\n",
              "        vertical-align: middle;\n",
              "    }\n",
              "\n",
              "    .dataframe tbody tr th {\n",
              "        vertical-align: top;\n",
              "    }\n",
              "\n",
              "    .dataframe thead th {\n",
              "        text-align: right;\n",
              "    }\n",
              "</style>\n",
              "<table border=\"1\" class=\"dataframe\">\n",
              "  <thead>\n",
              "    <tr style=\"text-align: right;\">\n",
              "      <th></th>\n",
              "      <th>sale_date_date</th>\n",
              "      <th>contact_id</th>\n",
              "      <th>shop_id</th>\n",
              "      <th>product_id</th>\n",
              "      <th>product_sub_category_id</th>\n",
              "      <th>product_category_id</th>\n",
              "      <th>brand_id</th>\n",
              "      <th>quantity</th>\n",
              "      <th>key_col</th>\n",
              "    </tr>\n",
              "  </thead>\n",
              "  <tbody>\n",
              "  </tbody>\n",
              "</table>\n",
              "</div>"
            ],
            "text/plain": [
              "Empty DataFrame\n",
              "Columns: [sale_date_date, contact_id, shop_id, product_id, product_sub_category_id, product_category_id, brand_id, quantity, key_col]\n",
              "Index: []"
            ]
          },
          "execution_count": 6,
          "metadata": {},
          "output_type": "execute_result"
        }
      ],
      "source": [
        "checks.dropna(inplace=True)\n",
        "checks[checks['sale_date_date'].str.startswith(\"20\")!=True][:4]\n"
      ]
    },
    {
      "cell_type": "code",
      "execution_count": 7,
      "metadata": {},
      "outputs": [
        {
          "data": {
            "text/plain": [
              "(20000000, 9)"
            ]
          },
          "execution_count": 7,
          "metadata": {},
          "output_type": "execute_result"
        }
      ],
      "source": [
        "checks.shape"
      ]
    },
    {
      "cell_type": "code",
      "execution_count": 8,
      "metadata": {},
      "outputs": [],
      "source": [
        "# checks = checks[checks['sale_date_date'].str.startswith(\"20\")] #ненужная фильтрация\n",
        "\n",
        "checks.reset_index(inplace=True, drop=True)\n",
        "checks['sale_date_date'] = pd.to_datetime(checks['sale_date_date'])\n",
        "checks.sort_values('sale_date_date', inplace=True)\n",
        "\n",
        "# Достаточно отсортировать и сделать трейн-тест, чтобы построить валидацию. Забьем на разорванные сессии\n",
        "train, test = train_test_split(checks, test_size=0.3)"
      ]
    },
    {
      "cell_type": "code",
      "execution_count": 12,
      "metadata": {
        "id": "WNlDG4tl1n8e"
      },
      "outputs": [
        {
          "name": "stderr",
          "output_type": "stream",
          "text": [
            "100%|██████████| 30418/30418 [00:54<00:00, 561.29it/s]\n"
          ]
        }
      ],
      "source": [
        "# Обучим простые контетные рекомендации\n",
        "\n",
        "# Для фильтрации пунктуации\n",
        "exclude = set(string.punctuation)\n",
        "# Для приведения слов в начальной форме\n",
        "morpher = MorphAnalyzer()\n",
        "\n",
        "# Для фильтрации стоп-слов\n",
        "sw = get_stop_words(\"ru\")\n",
        "from tqdm import tqdm\n",
        "tmpcnt=0\n",
        "lastpos=0\n",
        "\n",
        "def preprocess_txt(line):\n",
        "    global tmpcnt\n",
        "    global lastpos\n",
        "    spls = \"\".join(i for i in str(line).strip() if i not in exclude).split()\n",
        "    spls = [morpher.parse(i.lower())[0].normal_form for i in spls]\n",
        "    spls = [i for i in spls if i not in sw and i != \"\"]\n",
        "    tmpcnt+=1\n",
        "    t.update((tmpcnt-lastpos,lastpos:=tmpcnt)[0])\n",
        "    return spls\n",
        "\n",
        "t = tqdm(total=len(product_dict.keys())) # инициализировать прогресбар размером с длину словаря\n",
        "sentences = [preprocess_txt(k)[1:] for _,k in product_dict.items()] #исключить ненужный по смыслу лекарства номер кассы, стоящий в позиции 0\n",
        "t.close()"
      ]
    },
    {
      "cell_type": "code",
      "execution_count": 14,
      "metadata": {},
      "outputs": [
        {
          "data": {
            "text/plain": [
              "[['пакетмайк', '25см', 'х', '45см', '906'],\n",
              " ['перекись', 'водород', 'рр', 'наружн', '3', 'флполимерна', '100мл', '404'],\n",
              " ['салициловый', 'кислота', 'рр', 'спирт', '2', 'фл', '40мл', 'n1', '404'],\n",
              " ['пакет', '28см', 'х', '50см', '906'],\n",
              " ['пакет', 'аптека', 'озерко', '28', 'х', '35см', '906']]"
            ]
          },
          "execution_count": 14,
          "metadata": {},
          "output_type": "execute_result"
        }
      ],
      "source": [
        "# после обработки товарные позиции выглядят так:\n",
        "sentences[:5]"
      ]
    },
    {
      "cell_type": "code",
      "execution_count": 16,
      "metadata": {},
      "outputs": [
        {
          "name": "stdout",
          "output_type": "stream",
          "text": [
            "['пакетмайк', '25см', 'х', '45см', '906']|168308:(197312) Пакет-майка 25см х 45см 906\n",
            "['перекись', 'водород', 'рр', 'наружн', '3', 'флполимерна', '100мл', '404']|134832:(62448) Перекись водорода р-р наружн. 3% фл.полимерн. 100мл 404\n",
            "['салициловый', 'кислота', 'рр', 'спирт', '2', 'фл', '40мл', 'n1', '404']|101384:(72183) Салициловая кислота р-р спирт 2% фл 40мл N1 404\n",
            "['пакет', '28см', 'х', '50см', '906']|168570:(197309) Пакет 28см х 50см 906\n",
            "['пакет', 'аптека', 'озерко', '28', 'х', '35см', '906']|146960:(111023) Пакет \"Аптека Озерки\" 28 х 35см 906\n",
            "['ранитидина', 'тб', '150мг', 'уп', 'n20', '595']|128700:(51806) Ранитидин тб 150мг уп N20 595\n",
            "['платок', 'носовой', 'зев', 'кидс', '№10', '721']|52539:(19416) Платки носовые \"Зева Кидс\" №10 721\n",
            "['пакет', 'майк', 'благодарить', 'покупка', '2814', 'х', '43см', '№1', '1']|94270:(66684) Пакет майка \"Благодарим за покупку\" (28+14) х 43см №1 -1\n",
            "['игла', 'микрофайн', 'дшприцручка', '30g', '038мма', 'n100', '759']|77426:(5605) Иглы Микро-Файн д/шприц-ручки 30G 0,3*8мм N100 759\n",
            "['дорзопт', 'капля', 'глазной', '2', '5мл', 'флкап', 'n3', '575']|92475:(114214) Дорзопт капли глазные 2% 5мл. фл.-кап. N3 575\n",
            "['pl', 'шприц', 'одноразовый', '3комп', '3мл', '№1', '762']|158643:(181230) PL Шприц одноразовый 3-комп. 3мл №1 762\n",
            "['pl', 'шприц', 'одноразовый', '3комп', '5мл', '№1', '762']|158600:(181232) PL Шприц одноразовый 3-комп. 5мл №1 762\n",
            "['аллапинин', 'тб', '25мг', 'n30', '738']|106230:(43344) Аллапинин тб 25мг N30 738\n",
            "['корвалола', 'капля', 'дприём', 'внутрь', '25мл', '738']|110629:(57733) Корвалол капли д/приема внутрь 25мл 738\n",
            "['pl', 'контейнер', 'дбиопроба', 'стереть', '60мл', 'крыша', 'ложка', 'индуп', '711']|47251:(121286) PL Контейнер д/биопроб стер. 60мл с крыш и ложкой в инд.уп 711\n",
            "['pl', 'салфетка', 'антисептический', 'спиртовой', '3х6см', '№1', '404']|39811:(116543) PL Салфетка антисептическая спиртовая 3х6см №1 404\n"
          ]
        }
      ],
      "source": [
        "# проверка  на соответствие готовых преобразованных позиций и оригинальных товарных позиций из словаря\n",
        "counter=0\n",
        "for key,name in product_dict.items():\n",
        "    print(f'{sentences[counter]}|{key}:{name}')\n",
        "    counter+=1\n",
        "    if counter>15:break\n"
      ]
    },
    {
      "cell_type": "code",
      "execution_count": 20,
      "metadata": {},
      "outputs": [],
      "source": [
        "\n",
        "# Подготовим кандидатогенератор, который будет выдавать лекарства, похожие по текстовому описанию на те, которые выбрал покупатель\n",
        "# Обучим Fasttext и заэмбедим лекарства\n",
        "modelFT = FastText(sentences=sentences, vector_size=20, min_count=1, window=5)\n",
        "\n",
        "# Для того, чтобы быстро находить айтемы положим эмбединги их тайтлов в ANN индекс\n",
        "# Создадим объект индекса\n",
        "ft_index_names = annoy.AnnoyIndex(20 ,'angular')\n"
      ]
    },
    {
      "cell_type": "code",
      "execution_count": 21,
      "metadata": {},
      "outputs": [
        {
          "name": "stderr",
          "output_type": "stream",
          "text": [
            "100%|██████████| 30418/30418 [00:02<00:00, 14154.29it/s]\n"
          ]
        },
        {
          "data": {
            "text/plain": [
              "True"
            ]
          },
          "execution_count": 21,
          "metadata": {},
          "output_type": "execute_result"
        }
      ],
      "source": [
        "\n",
        "# Будем хранить соответствия не только product_id-> лекарство, но и лекарство-> product_id, чтобы быстрее находить эмбеддинги айтемов\n",
        "index_map = {}\n",
        "reverse_index_map = {}\n",
        "counter = 0\n",
        "import time\n",
        "t = tqdm(total=len(product_dict.keys())) # инициализировать прогресбар размером с длину словаря\n",
        "tmpcnt=0\n",
        "lastpos=0\n",
        "start_time = time.time() #использовать интервал для настройки частоты отображения прогресбара\n",
        "\n",
        "# каждую аптечную позицию внести в индекс для последующей выборки похожих на заданную позиций\n",
        "for key,name in product_dict.items():\n",
        "    tmpcnt+=1\n",
        "    if time.time()-start_time>2:\n",
        "        start_time = time.time()\n",
        "        t.update((tmpcnt-lastpos,lastpos:=tmpcnt)[0])\n",
        "    n_ft = 0\n",
        "    index_map[counter]=key\n",
        "    reverse_index_map[key] = counter\n",
        "    vector_ft = np.zeros(20)\n",
        "    # Каждое слово обернем в эмбеддинг\n",
        "    for word in sentences[counter]: #каждая позиция в словаре product_dict соответствует позиции в обработанных наборах слов sentences\n",
        "        if word in modelFT.wv:\n",
        "            vector_ft += modelFT.wv[word]\n",
        "            n_ft += 1\n",
        "    if n_ft > 0:\n",
        "        vector_ft = vector_ft / n_ft #простейший способ хранить вектор названия из нескольких слов, как среднее векторов составляющих слов\n",
        "    ft_index_names.add_item(counter, vector_ft)\n",
        "    counter += 1\n",
        "t.update((tmpcnt-lastpos,lastpos:=tmpcnt)[0])\n",
        "t.close()\n",
        "# \n",
        "ft_index_names.build(10)"
      ]
    },
    {
      "cell_type": "code",
      "execution_count": 17,
      "metadata": {},
      "outputs": [
        {
          "name": "stdout",
          "output_type": "stream",
          "text": [
            "True\n",
            "False\n"
          ]
        }
      ],
      "source": [
        "qq={'1':11,'2':22}\n",
        "print('1' in qq)\n",
        "print(11 in qq)"
      ]
    },
    {
      "cell_type": "code",
      "execution_count": 24,
      "metadata": {
        "id": "AgJvnjSP1n8e"
      },
      "outputs": [],
      "source": [
        "# reverse_item_mapping = {v: k for k, v in product_dict.items()}\n",
        "\n",
        "def recommend(items_list): #на вход список product_id\n",
        "    current_vector = np.zeros(20) #вектор- для набора усредненной характеристики товарной группы из списка items_list\n",
        "    c = len(items_list)\n",
        "    for iid in items_list:\n",
        "        iname = product_dict[iid]\n",
        "        # reverse_index_map в качестве ключей содержит product_id, а в качестве элементов - ключи для index_map, на основе которых построен annoy\n",
        "        if iid not in reverse_index_map: #если попалась позиция, которая предварительно не попала в индекс, то не учитывать ее вектор\n",
        "            c -= 1\n",
        "            continue\n",
        "        # извлечь ранее помещенные в annoy векторы для известных товарных позиций, \n",
        "        current_vector += np.array(ft_index_names.get_item_vector(reverse_index_map[iid]))\n",
        "    # взять для суммы их векторов среднее и выдать похожие позиции с помощью алгоритма похожести annoy\n",
        "    return [(index_map[i],product_dict[index_map[i]]) for i in ft_index_names.get_nns_by_vector(current_vector / c, 10)]"
      ]
    },
    {
      "cell_type": "code",
      "execution_count": 29,
      "metadata": {},
      "outputs": [
        {
          "data": {
            "text/plain": [
              "['(62448) Перекись водорода р-р наружн. 3% фл.полимерн. 100мл 404',\n",
              " '(72183) Салициловая кислота р-р спирт 2% фл 40мл N1 404']"
            ]
          },
          "execution_count": 29,
          "metadata": {},
          "output_type": "execute_result"
        }
      ],
      "source": [
        "# найти похожие для позиций\n",
        "[product_dict[i] for i in ['134832', '101384']]"
      ]
    },
    {
      "cell_type": "code",
      "execution_count": 30,
      "metadata": {},
      "outputs": [
        {
          "data": {
            "text/plain": [
              "[('101384', '(72183) Салициловая кислота р-р спирт 2% фл 40мл N1 404'),\n",
              " ('135553', '(3348) Салициловая кислота р-р спирт 2% фл 40мл N1 404'),\n",
              " ('37381', '(109185) Салициловая кислота р-р спирт 2% фл 40мл N1 404'),\n",
              " ('111281', '(10510) Салициловая кислота р-р спирт 2% фл 40мл N1 404'),\n",
              " ('133946', '(64588) Салициловая кислота р-р спирт 2% фл 40мл N1 404'),\n",
              " ('117847', '(115230) Салициловая кислота р-р спирт 2% фл 40мл N1 404'),\n",
              " ('75961', '(16471) Салициловая кислота р-р спирт 2% фл 40мл N1 404'),\n",
              " ('62299', '(13585) Салициловая кислота р-р спирт 2% фл 40мл N1 404'),\n",
              " ('89629', '(15095) Салициловая кислота р-р спирт 2% фл 40мл N1 404'),\n",
              " ('141272', '(15965) Салициловая кислота р-р спирт 2% фл 40мл N1 404')]"
            ]
          },
          "execution_count": 30,
          "metadata": {},
          "output_type": "execute_result"
        }
      ],
      "source": [
        "recommend(['101384'])"
      ]
    },
    {
      "cell_type": "code",
      "execution_count": 33,
      "metadata": {},
      "outputs": [
        {
          "data": {
            "text/plain": [
              "[('101384', '(72183) Салициловая кислота р-р спирт 2% фл 40мл N1 404'),\n",
              " ('135553', '(3348) Салициловая кислота р-р спирт 2% фл 40мл N1 404'),\n",
              " ('37381', '(109185) Салициловая кислота р-р спирт 2% фл 40мл N1 404'),\n",
              " ('111281', '(10510) Салициловая кислота р-р спирт 2% фл 40мл N1 404'),\n",
              " ('133946', '(64588) Салициловая кислота р-р спирт 2% фл 40мл N1 404'),\n",
              " ('117847', '(115230) Салициловая кислота р-р спирт 2% фл 40мл N1 404'),\n",
              " ('75961', '(16471) Салициловая кислота р-р спирт 2% фл 40мл N1 404'),\n",
              " ('62299', '(13585) Салициловая кислота р-р спирт 2% фл 40мл N1 404'),\n",
              " ('89629', '(15095) Салициловая кислота р-р спирт 2% фл 40мл N1 404'),\n",
              " ('141272', '(15965) Салициловая кислота р-р спирт 2% фл 40мл N1 404')]"
            ]
          },
          "execution_count": 33,
          "metadata": {},
          "output_type": "execute_result"
        }
      ],
      "source": [
        "recommend(['101384'])[:][:]"
      ]
    },
    {
      "cell_type": "code",
      "execution_count": 25,
      "metadata": {
        "id": "eil_GO2q1n8f"
      },
      "outputs": [
        {
          "data": {
            "text/plain": [
              "[('151683', '(15182) Перекись водорода р-р наружн. 3% фл. 40мл 404'),\n",
              " ('85149', '(76155) Перекись водорода р-р наружн. 3% фл. 40мл 404'),\n",
              " ('153088', '(120843) Перекись водорода р-р наружн. 3% фл. 40мл 404'),\n",
              " ('132006', '(104259) Перекись водорода р-р наружн. 3% фл. 100мл 404'),\n",
              " ('151336', '(101739) Чемеричная вода р-р фл 100мл N1 661'),\n",
              " ('105177', '(114421) Чемеричная вода р-р фл 100мл N1 661'),\n",
              " ('95282', '(38983) Чемеричная вода р-р фл 100мл N1 661'),\n",
              " ('79926', '(40433) Чемеричная вода р-р фл 100мл N1 661'),\n",
              " ('131852', '(34748) Аммифурин р-р 0,3% фл 50мл N1 467'),\n",
              " ('149587', '(74654) Камфорный спирт р-р 2% фл 40мл 648')]"
            ]
          },
          "execution_count": 25,
          "metadata": {},
          "output_type": "execute_result"
        }
      ],
      "source": [
        "recommend(['134832', '101384'])"
      ]
    },
    {
      "cell_type": "code",
      "execution_count": 27,
      "metadata": {},
      "outputs": [
        {
          "data": {
            "text/plain": [
              "'(15182) Перекись водорода р-р наружн. 3% фл. 40мл 404'"
            ]
          },
          "execution_count": 27,
          "metadata": {},
          "output_type": "execute_result"
        }
      ],
      "source": [
        "product_dict['151683']"
      ]
    },
    {
      "cell_type": "code",
      "execution_count": 28,
      "metadata": {},
      "outputs": [
        {
          "data": {
            "text/plain": [
              "'(76155) Перекись водорода р-р наружн. 3% фл. 40мл 404'"
            ]
          },
          "execution_count": 28,
          "metadata": {},
          "output_type": "execute_result"
        }
      ],
      "source": [
        "product_dict['85149']"
      ]
    },
    {
      "cell_type": "code",
      "execution_count": null,
      "metadata": {},
      "outputs": [],
      "source": [
        "# в словаре товарных позиций присутствуют одинаковые с разными product_id"
      ]
    },
    {
      "cell_type": "code",
      "execution_count": 10,
      "metadata": {
        "id": "I4jrOD771n8f",
        "outputId": "40a3f3f0-b6eb-450c-d731-41cf485c263a"
      },
      "outputs": [],
      "source": [
        "# Обучение эмбеддингов по последовательности\n",
        "from gensim.models import Word2Vec\n",
        "\n",
        "train['product_id'] = train['product_id'].apply(int).apply(str)\n",
        "\n",
        "grouped = train.groupby('key_col')\n",
        "sentences = []"
      ]
    },
    {
      "cell_type": "code",
      "execution_count": 11,
      "metadata": {
        "colab": {
          "referenced_widgets": [
            "f44a5b29465247c18019000eb56ed8b9"
          ]
        },
        "id": "tGgezbwj1n8g",
        "outputId": "20201a75-953a-416c-a9a9-b085fc522526",
        "scrolled": true
      },
      "outputs": [
        {
          "name": "stderr",
          "output_type": "stream",
          "text": [
            "C:\\Users\\vsevolod.volkov\\AppData\\Local\\Temp\\ipykernel_2832\\1066363157.py:5: TqdmDeprecationWarning: This function will be removed in tqdm==5.0.0\n",
            "Please use `tqdm.notebook.tqdm` instead of `tqdm.tqdm_notebook`\n",
            "  for group in tqdm_notebook(grouped.groups):\n"
          ]
        },
        {
          "data": {
            "application/json": {
              "ascii": false,
              "bar_format": null,
              "colour": null,
              "elapsed": 0.01897716522216797,
              "initial": 0,
              "n": 0,
              "ncols": null,
              "nrows": null,
              "postfix": null,
              "prefix": "",
              "rate": null,
              "total": 5457574,
              "unit": "it",
              "unit_divisor": 1000,
              "unit_scale": false
            },
            "application/vnd.jupyter.widget-view+json": {
              "model_id": "983b56329921432ea987f92a7def7acc",
              "version_major": 2,
              "version_minor": 0
            },
            "text/plain": [
              "  0%|          | 0/5457574 [00:00<?, ?it/s]"
            ]
          },
          "metadata": {},
          "output_type": "display_data"
        }
      ],
      "source": [
        "# Сформируем последовательности\n",
        "\n",
        "from tqdm import tqdm \n",
        "sentences = []\n",
        "for group in tqdm_notebook(grouped.groups):\n",
        "    products = grouped.get_group(group)['product_id'].values\n",
        "    if len(products) < 3:\n",
        "        continue\n",
        "    sentences.append(list(products))"
      ]
    },
    {
      "cell_type": "code",
      "execution_count": 13,
      "metadata": {
        "id": "NM412GSU1n8h"
      },
      "outputs": [],
      "source": [
        "modelW2V = Word2Vec(sentences, vector_size=10)"
      ]
    },
    {
      "cell_type": "code",
      "execution_count": 14,
      "metadata": {
        "id": "qUGOzOqn1n8h",
        "outputId": "e1bf1426-8702-4a4b-9f89-43f493e2d2e5"
      },
      "outputs": [
        {
          "data": {
            "text/plain": [
              "['115617', '142296', '37070']"
            ]
          },
          "execution_count": 14,
          "metadata": {},
          "output_type": "execute_result"
        }
      ],
      "source": [
        "sentences[0]"
      ]
    },
    {
      "cell_type": "code",
      "execution_count": 16,
      "metadata": {
        "id": "_tmLBMRz1n8h",
        "outputId": "7ca846ae-4af2-4cc9-dd8a-d68cf1102a61"
      },
      "outputs": [
        {
          "data": {
            "text/plain": [
              "<bound method KeyedVectors.similar_by_vector of <gensim.models.keyedvectors.KeyedVectors object at 0x000001E477776160>>"
            ]
          },
          "execution_count": 16,
          "metadata": {},
          "output_type": "execute_result"
        }
      ],
      "source": [
        "modelW2V.wv.similar_by_vector"
      ]
    },
    {
      "cell_type": "code",
      "execution_count": 19,
      "metadata": {
        "id": "6bhlwjwC1n8i"
      },
      "outputs": [],
      "source": [
        "def recommend_w2v(items_list):\n",
        "    current_vector = np.zeros(10)\n",
        "    c = len(items_list)\n",
        "    for iid in items_list:\n",
        "        iname = product_dict[iid]\n",
        "        if iname not in modelW2V.wv:\n",
        "            c -= 1\n",
        "            continue\n",
        "        current_vector += np.array(modelW2V.wv[reverse_index_map[iname]])\n",
        "    return [product_dict[i[0]] for i in modelW2V.wv.similar_by_vector(current_vector / c, 10)]"
      ]
    },
    {
      "cell_type": "code",
      "execution_count": 20,
      "metadata": {
        "id": "ga2A4ifk1n8i",
        "outputId": "0f807d91-bf78-4a33-a100-dc94b3b47280"
      },
      "outputs": [
        {
          "name": "stderr",
          "output_type": "stream",
          "text": [
            "C:\\Users\\vsevolod.volkov\\AppData\\Local\\Temp\\ipykernel_2832\\1051936176.py:10: RuntimeWarning: invalid value encountered in true_divide\n",
            "  return [product_dict[i[0]] for i in modelW2V.wv.similar_by_vector(current_vector / c, 10)]\n"
          ]
        },
        {
          "data": {
            "text/plain": [
              "['(181271) Зубная паста Колгейт Древние секреты Безупречная Свежесть 75мл 529',\n",
              " '(67162) Габагамма капс. 300мг №50 641',\n",
              " '(187610) Гиалрипайер-10 Хондрорепарант гель гиалуроновый д/инъек.фл.0,8% 5мл №1 646',\n",
              " '(106823) ЛОкситан Шампунь Сила и Густота 300мл 476',\n",
              " '(192300) PL Перчатки латексные нестерильные р.M №10 675',\n",
              " '(67740) Аторвастатин таб.п.п.о.20мг №30 685',\n",
              " '(66406) Ополаскиватель д/полости рта Лакалют Уайт 300мл -1',\n",
              " '(35332) СТИКС Крем \"Авокадо\" 50 мл, уп №1 (150) 498',\n",
              " '(3434) Чай \"Волшебная сила\" [фильтр-пакеты 2г] N20 -1',\n",
              " '(183248) Катетер-баллон \"Фолея\" 2-х ходовой (№18) №1 761']"
            ]
          },
          "execution_count": 20,
          "metadata": {},
          "output_type": "execute_result"
        }
      ],
      "source": [
        "recommend_w2v(['99821', '138583', '45321', '134475'])"
      ]
    }
  ],
  "metadata": {
    "colab": {
      "collapsed_sections": [],
      "provenance": []
    },
    "kernelspec": {
      "display_name": "Python 3.9.13 64-bit",
      "language": "python",
      "name": "python3"
    },
    "language_info": {
      "codemirror_mode": {
        "name": "ipython",
        "version": 3
      },
      "file_extension": ".py",
      "mimetype": "text/x-python",
      "name": "python",
      "nbconvert_exporter": "python",
      "pygments_lexer": "ipython3",
      "version": "3.9.13"
    },
    "vscode": {
      "interpreter": {
        "hash": "20e0411d6d37670f7ff2fe9b9e2c31fabc9d5997a01474d14773f9d8fd25341d"
      }
    }
  },
  "nbformat": 4,
  "nbformat_minor": 0
}
