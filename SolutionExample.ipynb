{
  "cells": [
    {
      "cell_type": "code",
      "execution_count": 1,
      "metadata": {
        "colab": {
          "base_uri": "https://localhost:8080/",
          "height": 375
        },
        "id": "BphJzgL-1n8Y",
        "outputId": "26c3e6f6-1a75-40da-9bf9-8a41e4029fec"
      },
      "outputs": [],
      "source": [
        "import pickle\n",
        "import string\n",
        "import annoy\n",
        "\n",
        "import pandas as pd\n",
        "import numpy as np\n",
        "\n",
        "from sklearn.model_selection import train_test_split\n",
        "from pymorphy2 import MorphAnalyzer\n",
        "from stop_words import get_stop_words\n",
        "from gensim.models import FastText\n",
        "from tqdm import tqdm_notebook"
      ]
    },
    {
      "cell_type": "code",
      "execution_count": 2,
      "metadata": {
        "id": "tEW9k9Uq1n8c",
        "outputId": "dd5d20aa-c9ff-4707-f09f-79d0a5e50a53"
      },
      "outputs": [
        {
          "name": "stderr",
          "output_type": "stream",
          "text": [
            "C:\\Users\\vsevolod.volkov\\AppData\\Local\\Temp\\ipykernel_9868\\191298464.py:2: DtypeWarning: Columns (1) have mixed types. Specify dtype option on import or set low_memory=False.\n",
            "  checks = pd.read_csv(f\"{DIR}data.csv\")\n"
          ]
        },
        {
          "data": {
            "text/html": [
              "<div>\n",
              "<style scoped>\n",
              "    .dataframe tbody tr th:only-of-type {\n",
              "        vertical-align: middle;\n",
              "    }\n",
              "\n",
              "    .dataframe tbody tr th {\n",
              "        vertical-align: top;\n",
              "    }\n",
              "\n",
              "    .dataframe thead th {\n",
              "        text-align: right;\n",
              "    }\n",
              "</style>\n",
              "<table border=\"1\" class=\"dataframe\">\n",
              "  <thead>\n",
              "    <tr style=\"text-align: right;\">\n",
              "      <th></th>\n",
              "      <th>sale_date_date</th>\n",
              "      <th>contact_id</th>\n",
              "      <th>shop_id</th>\n",
              "      <th>product_id</th>\n",
              "      <th>product_sub_category_id</th>\n",
              "      <th>product_category_id</th>\n",
              "      <th>brand_id</th>\n",
              "      <th>quantity</th>\n",
              "    </tr>\n",
              "  </thead>\n",
              "  <tbody>\n",
              "    <tr>\n",
              "      <th>0</th>\n",
              "      <td>2018-12-07</td>\n",
              "      <td>1260627</td>\n",
              "      <td>1455.0</td>\n",
              "      <td>168308.0</td>\n",
              "      <td>906.0</td>\n",
              "      <td>205.0</td>\n",
              "      <td>-1.0</td>\n",
              "      <td>1,00</td>\n",
              "    </tr>\n",
              "    <tr>\n",
              "      <th>1</th>\n",
              "      <td>2018-12-07</td>\n",
              "      <td>198287</td>\n",
              "      <td>279.0</td>\n",
              "      <td>134832.0</td>\n",
              "      <td>404.0</td>\n",
              "      <td>93.0</td>\n",
              "      <td>-1.0</td>\n",
              "      <td>1,00</td>\n",
              "    </tr>\n",
              "    <tr>\n",
              "      <th>2</th>\n",
              "      <td>2018-12-07</td>\n",
              "      <td>2418385</td>\n",
              "      <td>848.0</td>\n",
              "      <td>101384.0</td>\n",
              "      <td>404.0</td>\n",
              "      <td>93.0</td>\n",
              "      <td>-1.0</td>\n",
              "      <td>1,00</td>\n",
              "    </tr>\n",
              "    <tr>\n",
              "      <th>3</th>\n",
              "      <td>2018-12-07</td>\n",
              "      <td>1285774</td>\n",
              "      <td>1511.0</td>\n",
              "      <td>168570.0</td>\n",
              "      <td>906.0</td>\n",
              "      <td>205.0</td>\n",
              "      <td>-1.0</td>\n",
              "      <td>1,00</td>\n",
              "    </tr>\n",
              "    <tr>\n",
              "      <th>4</th>\n",
              "      <td>2018-12-07</td>\n",
              "      <td>1810323</td>\n",
              "      <td>1501.0</td>\n",
              "      <td>168319.0</td>\n",
              "      <td>906.0</td>\n",
              "      <td>205.0</td>\n",
              "      <td>-1.0</td>\n",
              "      <td>1,00</td>\n",
              "    </tr>\n",
              "  </tbody>\n",
              "</table>\n",
              "</div>"
            ],
            "text/plain": [
              "  sale_date_date contact_id  shop_id  product_id  product_sub_category_id  \\\n",
              "0     2018-12-07    1260627   1455.0    168308.0                    906.0   \n",
              "1     2018-12-07     198287    279.0    134832.0                    404.0   \n",
              "2     2018-12-07    2418385    848.0    101384.0                    404.0   \n",
              "3     2018-12-07    1285774   1511.0    168570.0                    906.0   \n",
              "4     2018-12-07    1810323   1501.0    168319.0                    906.0   \n",
              "\n",
              "   product_category_id  brand_id quantity  \n",
              "0                205.0      -1.0     1,00  \n",
              "1                 93.0      -1.0     1,00  \n",
              "2                 93.0      -1.0     1,00  \n",
              "3                205.0      -1.0     1,00  \n",
              "4                205.0      -1.0     1,00  "
            ]
          },
          "execution_count": 2,
          "metadata": {},
          "output_type": "execute_result"
        }
      ],
      "source": [
        "DIR=\"..\\\\..\\\\chunk\\\\18\\\\\"\n",
        "checks = pd.read_csv(f\"{DIR}data.csv\")\n",
        "checks.drop(['name'], axis=1, inplace=True)\n",
        "\n",
        "with open(f\"{DIR}Product_dict.pkl\",\"rb\") as f:\n",
        "    product_dict = pickle.load(f)\n",
        "\n",
        "checks.head()"
      ]
    },
    {
      "cell_type": "code",
      "execution_count": 9,
      "metadata": {},
      "outputs": [
        {
          "data": {
            "text/plain": [
              "[('168308', '(197312) Пакет-майка 25см х 45см 906'),\n",
              " ('134832', '(62448) Перекись водорода р-р наружн. 3% фл.полимерн. 100мл 404'),\n",
              " ('101384', '(72183) Салициловая кислота р-р спирт 2% фл 40мл N1 404')]"
            ]
          },
          "execution_count": 9,
          "metadata": {},
          "output_type": "execute_result"
        }
      ],
      "source": [
        "list(product_dict.items())[:3]"
      ]
    },
    {
      "cell_type": "code",
      "execution_count": 10,
      "metadata": {},
      "outputs": [
        {
          "data": {
            "text/html": [
              "<div>\n",
              "<style scoped>\n",
              "    .dataframe tbody tr th:only-of-type {\n",
              "        vertical-align: middle;\n",
              "    }\n",
              "\n",
              "    .dataframe tbody tr th {\n",
              "        vertical-align: top;\n",
              "    }\n",
              "\n",
              "    .dataframe thead th {\n",
              "        text-align: right;\n",
              "    }\n",
              "</style>\n",
              "<table border=\"1\" class=\"dataframe\">\n",
              "  <thead>\n",
              "    <tr style=\"text-align: right;\">\n",
              "      <th></th>\n",
              "      <th>sale_date_date</th>\n",
              "      <th>contact_id</th>\n",
              "      <th>shop_id</th>\n",
              "      <th>product_id</th>\n",
              "      <th>product_sub_category_id</th>\n",
              "      <th>product_category_id</th>\n",
              "      <th>brand_id</th>\n",
              "      <th>quantity</th>\n",
              "    </tr>\n",
              "  </thead>\n",
              "  <tbody>\n",
              "    <tr>\n",
              "      <th>1101056</th>\n",
              "      <td>2018-11-30</td>\n",
              "      <td>197312</td>\n",
              "      <td>324.0</td>\n",
              "      <td>86130.0</td>\n",
              "      <td>569.0</td>\n",
              "      <td>128.0</td>\n",
              "      <td>4389.0</td>\n",
              "      <td>2,00</td>\n",
              "    </tr>\n",
              "    <tr>\n",
              "      <th>1203680</th>\n",
              "      <td>2018-11-30</td>\n",
              "      <td>197312</td>\n",
              "      <td>324.0</td>\n",
              "      <td>65376.0</td>\n",
              "      <td>569.0</td>\n",
              "      <td>128.0</td>\n",
              "      <td>3328.0</td>\n",
              "      <td>2,00</td>\n",
              "    </tr>\n",
              "    <tr>\n",
              "      <th>2121985</th>\n",
              "      <td>2018-11-23</td>\n",
              "      <td>197312</td>\n",
              "      <td>324.0</td>\n",
              "      <td>163608.0</td>\n",
              "      <td>628.0</td>\n",
              "      <td>144.0</td>\n",
              "      <td>-1.0</td>\n",
              "      <td>1,00</td>\n",
              "    </tr>\n",
              "    <tr>\n",
              "      <th>2123704</th>\n",
              "      <td>2018-11-23</td>\n",
              "      <td>197312</td>\n",
              "      <td>324.0</td>\n",
              "      <td>41369.0</td>\n",
              "      <td>735.0</td>\n",
              "      <td>170.0</td>\n",
              "      <td>-1.0</td>\n",
              "      <td>1,00</td>\n",
              "    </tr>\n",
              "    <tr>\n",
              "      <th>2126573</th>\n",
              "      <td>2018-11-23</td>\n",
              "      <td>197312</td>\n",
              "      <td>324.0</td>\n",
              "      <td>60270.0</td>\n",
              "      <td>403.0</td>\n",
              "      <td>92.0</td>\n",
              "      <td>-1.0</td>\n",
              "      <td>1,00</td>\n",
              "    </tr>\n",
              "    <tr>\n",
              "      <th>...</th>\n",
              "      <td>...</td>\n",
              "      <td>...</td>\n",
              "      <td>...</td>\n",
              "      <td>...</td>\n",
              "      <td>...</td>\n",
              "      <td>...</td>\n",
              "      <td>...</td>\n",
              "      <td>...</td>\n",
              "    </tr>\n",
              "    <tr>\n",
              "      <th>16001323</th>\n",
              "      <td>2018-05-02</td>\n",
              "      <td>197312</td>\n",
              "      <td>324.0</td>\n",
              "      <td>47278.0</td>\n",
              "      <td>628.0</td>\n",
              "      <td>144.0</td>\n",
              "      <td>1226.0</td>\n",
              "      <td>1,00</td>\n",
              "    </tr>\n",
              "    <tr>\n",
              "      <th>16002347</th>\n",
              "      <td>2018-05-02</td>\n",
              "      <td>197312</td>\n",
              "      <td>324.0</td>\n",
              "      <td>100622.0</td>\n",
              "      <td>718.0</td>\n",
              "      <td>166.0</td>\n",
              "      <td>-1.0</td>\n",
              "      <td>1,00</td>\n",
              "    </tr>\n",
              "    <tr>\n",
              "      <th>16002948</th>\n",
              "      <td>2018-05-02</td>\n",
              "      <td>197312</td>\n",
              "      <td>324.0</td>\n",
              "      <td>44939.0</td>\n",
              "      <td>644.0</td>\n",
              "      <td>148.0</td>\n",
              "      <td>-1.0</td>\n",
              "      <td>1,00</td>\n",
              "    </tr>\n",
              "    <tr>\n",
              "      <th>16003083</th>\n",
              "      <td>2018-05-02</td>\n",
              "      <td>197312</td>\n",
              "      <td>324.0</td>\n",
              "      <td>147131.0</td>\n",
              "      <td>481.0</td>\n",
              "      <td>113.0</td>\n",
              "      <td>3888.0</td>\n",
              "      <td>1,00</td>\n",
              "    </tr>\n",
              "    <tr>\n",
              "      <th>16166651</th>\n",
              "      <td>2018-05-02</td>\n",
              "      <td>197312</td>\n",
              "      <td>324.0</td>\n",
              "      <td>37047.0</td>\n",
              "      <td>639.0</td>\n",
              "      <td>146.0</td>\n",
              "      <td>-1.0</td>\n",
              "      <td>1,00</td>\n",
              "    </tr>\n",
              "  </tbody>\n",
              "</table>\n",
              "<p>155 rows × 8 columns</p>\n",
              "</div>"
            ],
            "text/plain": [
              "         sale_date_date contact_id  shop_id  product_id  \\\n",
              "1101056      2018-11-30     197312    324.0     86130.0   \n",
              "1203680      2018-11-30     197312    324.0     65376.0   \n",
              "2121985      2018-11-23     197312    324.0    163608.0   \n",
              "2123704      2018-11-23     197312    324.0     41369.0   \n",
              "2126573      2018-11-23     197312    324.0     60270.0   \n",
              "...                 ...        ...      ...         ...   \n",
              "16001323     2018-05-02     197312    324.0     47278.0   \n",
              "16002347     2018-05-02     197312    324.0    100622.0   \n",
              "16002948     2018-05-02     197312    324.0     44939.0   \n",
              "16003083     2018-05-02     197312    324.0    147131.0   \n",
              "16166651     2018-05-02     197312    324.0     37047.0   \n",
              "\n",
              "          product_sub_category_id  product_category_id  brand_id quantity  \n",
              "1101056                     569.0                128.0    4389.0     2,00  \n",
              "1203680                     569.0                128.0    3328.0     2,00  \n",
              "2121985                     628.0                144.0      -1.0     1,00  \n",
              "2123704                     735.0                170.0      -1.0     1,00  \n",
              "2126573                     403.0                 92.0      -1.0     1,00  \n",
              "...                           ...                  ...       ...      ...  \n",
              "16001323                    628.0                144.0    1226.0     1,00  \n",
              "16002347                    718.0                166.0      -1.0     1,00  \n",
              "16002948                    644.0                148.0      -1.0     1,00  \n",
              "16003083                    481.0                113.0    3888.0     1,00  \n",
              "16166651                    639.0                146.0      -1.0     1,00  \n",
              "\n",
              "[155 rows x 8 columns]"
            ]
          },
          "execution_count": 10,
          "metadata": {},
          "output_type": "execute_result"
        }
      ],
      "source": [
        "checks.query('contact_id==197312')"
      ]
    },
    {
      "cell_type": "code",
      "execution_count": 11,
      "metadata": {
        "id": "6K9CNpd_1n8c",
        "outputId": "8d6cf1de-e516-4a4b-d6fb-8175a16d46aa"
      },
      "outputs": [
        {
          "data": {
            "text/html": [
              "<div>\n",
              "<style scoped>\n",
              "    .dataframe tbody tr th:only-of-type {\n",
              "        vertical-align: middle;\n",
              "    }\n",
              "\n",
              "    .dataframe tbody tr th {\n",
              "        vertical-align: top;\n",
              "    }\n",
              "\n",
              "    .dataframe thead th {\n",
              "        text-align: right;\n",
              "    }\n",
              "</style>\n",
              "<table border=\"1\" class=\"dataframe\">\n",
              "  <thead>\n",
              "    <tr style=\"text-align: right;\">\n",
              "      <th></th>\n",
              "      <th>sale_date_date</th>\n",
              "      <th>contact_id</th>\n",
              "      <th>shop_id</th>\n",
              "      <th>product_id</th>\n",
              "      <th>product_sub_category_id</th>\n",
              "      <th>product_category_id</th>\n",
              "      <th>brand_id</th>\n",
              "      <th>quantity</th>\n",
              "      <th>key_col</th>\n",
              "    </tr>\n",
              "  </thead>\n",
              "  <tbody>\n",
              "    <tr>\n",
              "      <th>0</th>\n",
              "      <td>2018-12-07</td>\n",
              "      <td>1260627</td>\n",
              "      <td>1455.0</td>\n",
              "      <td>168308.0</td>\n",
              "      <td>906.0</td>\n",
              "      <td>205.0</td>\n",
              "      <td>-1.0</td>\n",
              "      <td>1,00</td>\n",
              "      <td>2018-12-07_1260627_1455.0</td>\n",
              "    </tr>\n",
              "    <tr>\n",
              "      <th>1</th>\n",
              "      <td>2018-12-07</td>\n",
              "      <td>198287</td>\n",
              "      <td>279.0</td>\n",
              "      <td>134832.0</td>\n",
              "      <td>404.0</td>\n",
              "      <td>93.0</td>\n",
              "      <td>-1.0</td>\n",
              "      <td>1,00</td>\n",
              "      <td>2018-12-07_198287_279.0</td>\n",
              "    </tr>\n",
              "    <tr>\n",
              "      <th>2</th>\n",
              "      <td>2018-12-07</td>\n",
              "      <td>2418385</td>\n",
              "      <td>848.0</td>\n",
              "      <td>101384.0</td>\n",
              "      <td>404.0</td>\n",
              "      <td>93.0</td>\n",
              "      <td>-1.0</td>\n",
              "      <td>1,00</td>\n",
              "      <td>2018-12-07_2418385_848.0</td>\n",
              "    </tr>\n",
              "    <tr>\n",
              "      <th>3</th>\n",
              "      <td>2018-12-07</td>\n",
              "      <td>1285774</td>\n",
              "      <td>1511.0</td>\n",
              "      <td>168570.0</td>\n",
              "      <td>906.0</td>\n",
              "      <td>205.0</td>\n",
              "      <td>-1.0</td>\n",
              "      <td>1,00</td>\n",
              "      <td>2018-12-07_1285774_1511.0</td>\n",
              "    </tr>\n",
              "    <tr>\n",
              "      <th>4</th>\n",
              "      <td>2018-12-07</td>\n",
              "      <td>1810323</td>\n",
              "      <td>1501.0</td>\n",
              "      <td>168319.0</td>\n",
              "      <td>906.0</td>\n",
              "      <td>205.0</td>\n",
              "      <td>-1.0</td>\n",
              "      <td>1,00</td>\n",
              "      <td>2018-12-07_1810323_1501.0</td>\n",
              "    </tr>\n",
              "  </tbody>\n",
              "</table>\n",
              "</div>"
            ],
            "text/plain": [
              "  sale_date_date contact_id  shop_id  product_id  product_sub_category_id  \\\n",
              "0     2018-12-07    1260627   1455.0    168308.0                    906.0   \n",
              "1     2018-12-07     198287    279.0    134832.0                    404.0   \n",
              "2     2018-12-07    2418385    848.0    101384.0                    404.0   \n",
              "3     2018-12-07    1285774   1511.0    168570.0                    906.0   \n",
              "4     2018-12-07    1810323   1501.0    168319.0                    906.0   \n",
              "\n",
              "   product_category_id  brand_id quantity                    key_col  \n",
              "0                205.0      -1.0     1,00  2018-12-07_1260627_1455.0  \n",
              "1                 93.0      -1.0     1,00    2018-12-07_198287_279.0  \n",
              "2                 93.0      -1.0     1,00   2018-12-07_2418385_848.0  \n",
              "3                205.0      -1.0     1,00  2018-12-07_1285774_1511.0  \n",
              "4                205.0      -1.0     1,00  2018-12-07_1810323_1501.0  "
            ]
          },
          "execution_count": 11,
          "metadata": {},
          "output_type": "execute_result"
        }
      ],
      "source": [
        "# Создадим ключевую колонку: время + касса + магазин\n",
        "checks['key_col'] = checks['sale_date_date'].apply(str) + \"_\" + checks['contact_id'].apply(str) + \"_\" + checks['shop_id'].apply(str)\n",
        "checks.head()"
      ]
    },
    {
      "cell_type": "code",
      "execution_count": 14,
      "metadata": {},
      "outputs": [],
      "source": [
        "checks.dropna(inplace=True)"
      ]
    },
    {
      "cell_type": "code",
      "execution_count": 15,
      "metadata": {},
      "outputs": [
        {
          "data": {
            "text/html": [
              "<div>\n",
              "<style scoped>\n",
              "    .dataframe tbody tr th:only-of-type {\n",
              "        vertical-align: middle;\n",
              "    }\n",
              "\n",
              "    .dataframe tbody tr th {\n",
              "        vertical-align: top;\n",
              "    }\n",
              "\n",
              "    .dataframe thead th {\n",
              "        text-align: right;\n",
              "    }\n",
              "</style>\n",
              "<table border=\"1\" class=\"dataframe\">\n",
              "  <thead>\n",
              "    <tr style=\"text-align: right;\">\n",
              "      <th></th>\n",
              "      <th>sale_date_date</th>\n",
              "      <th>contact_id</th>\n",
              "      <th>shop_id</th>\n",
              "      <th>product_id</th>\n",
              "      <th>product_sub_category_id</th>\n",
              "      <th>product_category_id</th>\n",
              "      <th>brand_id</th>\n",
              "      <th>quantity</th>\n",
              "      <th>key_col</th>\n",
              "    </tr>\n",
              "  </thead>\n",
              "  <tbody>\n",
              "    <tr>\n",
              "      <th>0</th>\n",
              "      <td>2018-12-07</td>\n",
              "      <td>1260627</td>\n",
              "      <td>1455.0</td>\n",
              "      <td>168308.0</td>\n",
              "      <td>906.0</td>\n",
              "      <td>205.0</td>\n",
              "      <td>-1.0</td>\n",
              "      <td>1,00</td>\n",
              "      <td>2018-12-07_1260627_1455.0</td>\n",
              "    </tr>\n",
              "    <tr>\n",
              "      <th>1</th>\n",
              "      <td>2018-12-07</td>\n",
              "      <td>198287</td>\n",
              "      <td>279.0</td>\n",
              "      <td>134832.0</td>\n",
              "      <td>404.0</td>\n",
              "      <td>93.0</td>\n",
              "      <td>-1.0</td>\n",
              "      <td>1,00</td>\n",
              "      <td>2018-12-07_198287_279.0</td>\n",
              "    </tr>\n",
              "    <tr>\n",
              "      <th>2</th>\n",
              "      <td>2018-12-07</td>\n",
              "      <td>2418385</td>\n",
              "      <td>848.0</td>\n",
              "      <td>101384.0</td>\n",
              "      <td>404.0</td>\n",
              "      <td>93.0</td>\n",
              "      <td>-1.0</td>\n",
              "      <td>1,00</td>\n",
              "      <td>2018-12-07_2418385_848.0</td>\n",
              "    </tr>\n",
              "    <tr>\n",
              "      <th>3</th>\n",
              "      <td>2018-12-07</td>\n",
              "      <td>1285774</td>\n",
              "      <td>1511.0</td>\n",
              "      <td>168570.0</td>\n",
              "      <td>906.0</td>\n",
              "      <td>205.0</td>\n",
              "      <td>-1.0</td>\n",
              "      <td>1,00</td>\n",
              "      <td>2018-12-07_1285774_1511.0</td>\n",
              "    </tr>\n",
              "  </tbody>\n",
              "</table>\n",
              "</div>"
            ],
            "text/plain": [
              "  sale_date_date contact_id  shop_id  product_id  product_sub_category_id  \\\n",
              "0     2018-12-07    1260627   1455.0    168308.0                    906.0   \n",
              "1     2018-12-07     198287    279.0    134832.0                    404.0   \n",
              "2     2018-12-07    2418385    848.0    101384.0                    404.0   \n",
              "3     2018-12-07    1285774   1511.0    168570.0                    906.0   \n",
              "\n",
              "   product_category_id  brand_id quantity                    key_col  \n",
              "0                205.0      -1.0     1,00  2018-12-07_1260627_1455.0  \n",
              "1                 93.0      -1.0     1,00    2018-12-07_198287_279.0  \n",
              "2                 93.0      -1.0     1,00   2018-12-07_2418385_848.0  \n",
              "3                205.0      -1.0     1,00  2018-12-07_1285774_1511.0  "
            ]
          },
          "execution_count": 15,
          "metadata": {},
          "output_type": "execute_result"
        }
      ],
      "source": [
        "checks[checks['sale_date_date'].str.startswith(\"20\")][:4]"
      ]
    },
    {
      "cell_type": "code",
      "execution_count": 19,
      "metadata": {},
      "outputs": [
        {
          "data": {
            "text/html": [
              "<div>\n",
              "<style scoped>\n",
              "    .dataframe tbody tr th:only-of-type {\n",
              "        vertical-align: middle;\n",
              "    }\n",
              "\n",
              "    .dataframe tbody tr th {\n",
              "        vertical-align: top;\n",
              "    }\n",
              "\n",
              "    .dataframe thead th {\n",
              "        text-align: right;\n",
              "    }\n",
              "</style>\n",
              "<table border=\"1\" class=\"dataframe\">\n",
              "  <thead>\n",
              "    <tr style=\"text-align: right;\">\n",
              "      <th></th>\n",
              "      <th>sale_date_date</th>\n",
              "      <th>contact_id</th>\n",
              "      <th>shop_id</th>\n",
              "      <th>product_id</th>\n",
              "      <th>product_sub_category_id</th>\n",
              "      <th>product_category_id</th>\n",
              "      <th>brand_id</th>\n",
              "      <th>quantity</th>\n",
              "      <th>key_col</th>\n",
              "    </tr>\n",
              "  </thead>\n",
              "  <tbody>\n",
              "  </tbody>\n",
              "</table>\n",
              "</div>"
            ],
            "text/plain": [
              "Empty DataFrame\n",
              "Columns: [sale_date_date, contact_id, shop_id, product_id, product_sub_category_id, product_category_id, brand_id, quantity, key_col]\n",
              "Index: []"
            ]
          },
          "execution_count": 19,
          "metadata": {},
          "output_type": "execute_result"
        }
      ],
      "source": [
        "checks[checks['sale_date_date'].str.startswith(\"20\")!=True][:4]"
      ]
    },
    {
      "cell_type": "code",
      "execution_count": 20,
      "metadata": {},
      "outputs": [
        {
          "data": {
            "text/plain": [
              "(20000000, 9)"
            ]
          },
          "execution_count": 20,
          "metadata": {},
          "output_type": "execute_result"
        }
      ],
      "source": [
        "checks.shape"
      ]
    },
    {
      "cell_type": "code",
      "execution_count": 21,
      "metadata": {
        "id": "4PkcECXI1n8d"
      },
      "outputs": [
        {
          "data": {
            "text/plain": [
              "(20000000, 9)"
            ]
          },
          "execution_count": 21,
          "metadata": {},
          "output_type": "execute_result"
        }
      ],
      "source": [
        "\n",
        "checks = checks[checks['sale_date_date'].str.startswith(\"20\")] #других нет годов,однако\n",
        "checks.shape\n"
      ]
    },
    {
      "cell_type": "code",
      "execution_count": 22,
      "metadata": {},
      "outputs": [],
      "source": [
        "checks.reset_index(inplace=True, drop=True)\n",
        "checks['sale_date_date'] = pd.to_datetime(checks['sale_date_date'])\n",
        "checks.sort_values('sale_date_date', inplace=True)\n",
        "\n",
        "# Достаточно отсортировать и сделать трейн-тест, чтобы построить валидацию. Забьем на разорванные сессии\n",
        "train, test = train_test_split(checks, test_size=0.3)"
      ]
    },
    {
      "cell_type": "code",
      "execution_count": 25,
      "metadata": {},
      "outputs": [
        {
          "data": {
            "text/html": [
              "<div>\n",
              "<style scoped>\n",
              "    .dataframe tbody tr th:only-of-type {\n",
              "        vertical-align: middle;\n",
              "    }\n",
              "\n",
              "    .dataframe tbody tr th {\n",
              "        vertical-align: top;\n",
              "    }\n",
              "\n",
              "    .dataframe thead th {\n",
              "        text-align: right;\n",
              "    }\n",
              "</style>\n",
              "<table border=\"1\" class=\"dataframe\">\n",
              "  <thead>\n",
              "    <tr style=\"text-align: right;\">\n",
              "      <th></th>\n",
              "      <th>sale_date_date</th>\n",
              "      <th>contact_id</th>\n",
              "      <th>shop_id</th>\n",
              "      <th>product_id</th>\n",
              "      <th>product_sub_category_id</th>\n",
              "      <th>product_category_id</th>\n",
              "      <th>brand_id</th>\n",
              "      <th>quantity</th>\n",
              "      <th>key_col</th>\n",
              "    </tr>\n",
              "  </thead>\n",
              "  <tbody>\n",
              "    <tr>\n",
              "      <th>6717817</th>\n",
              "      <td>2018-01-01</td>\n",
              "      <td>1918867</td>\n",
              "      <td>1517.0</td>\n",
              "      <td>124688.0</td>\n",
              "      <td>575.0</td>\n",
              "      <td>129.0</td>\n",
              "      <td>-1.0</td>\n",
              "      <td>1,00</td>\n",
              "      <td>2018-01-01_1918867_1517.0</td>\n",
              "    </tr>\n",
              "    <tr>\n",
              "      <th>6666893</th>\n",
              "      <td>2018-01-01</td>\n",
              "      <td>843451</td>\n",
              "      <td>837.0</td>\n",
              "      <td>78119.0</td>\n",
              "      <td>648.0</td>\n",
              "      <td>148.0</td>\n",
              "      <td>-1.0</td>\n",
              "      <td>1,00</td>\n",
              "      <td>2018-01-01_843451_837.0</td>\n",
              "    </tr>\n",
              "    <tr>\n",
              "      <th>6666892</th>\n",
              "      <td>2018-01-01</td>\n",
              "      <td>698663</td>\n",
              "      <td>138.0</td>\n",
              "      <td>41126.0</td>\n",
              "      <td>403.0</td>\n",
              "      <td>92.0</td>\n",
              "      <td>-1.0</td>\n",
              "      <td>1,00</td>\n",
              "      <td>2018-01-01_698663_138.0</td>\n",
              "    </tr>\n",
              "    <tr>\n",
              "      <th>6666891</th>\n",
              "      <td>2018-01-01</td>\n",
              "      <td>753645</td>\n",
              "      <td>553.0</td>\n",
              "      <td>146960.0</td>\n",
              "      <td>906.0</td>\n",
              "      <td>205.0</td>\n",
              "      <td>-1.0</td>\n",
              "      <td>1,00</td>\n",
              "      <td>2018-01-01_753645_553.0</td>\n",
              "    </tr>\n",
              "    <tr>\n",
              "      <th>6666890</th>\n",
              "      <td>2018-01-01</td>\n",
              "      <td>764682</td>\n",
              "      <td>138.0</td>\n",
              "      <td>131016.0</td>\n",
              "      <td>575.0</td>\n",
              "      <td>129.0</td>\n",
              "      <td>-1.0</td>\n",
              "      <td>1,00</td>\n",
              "      <td>2018-01-01_764682_138.0</td>\n",
              "    </tr>\n",
              "    <tr>\n",
              "      <th>6666889</th>\n",
              "      <td>2018-01-01</td>\n",
              "      <td>730404</td>\n",
              "      <td>862.0</td>\n",
              "      <td>109932.0</td>\n",
              "      <td>569.0</td>\n",
              "      <td>128.0</td>\n",
              "      <td>1520.0</td>\n",
              "      <td>1,00</td>\n",
              "      <td>2018-01-01_730404_862.0</td>\n",
              "    </tr>\n",
              "    <tr>\n",
              "      <th>6666888</th>\n",
              "      <td>2018-01-01</td>\n",
              "      <td>572634</td>\n",
              "      <td>99.0</td>\n",
              "      <td>144262.0</td>\n",
              "      <td>397.0</td>\n",
              "      <td>90.0</td>\n",
              "      <td>-1.0</td>\n",
              "      <td>1,00</td>\n",
              "      <td>2018-01-01_572634_99.0</td>\n",
              "    </tr>\n",
              "    <tr>\n",
              "      <th>6666887</th>\n",
              "      <td>2018-01-01</td>\n",
              "      <td>784830</td>\n",
              "      <td>860.0</td>\n",
              "      <td>79490.0</td>\n",
              "      <td>700.0</td>\n",
              "      <td>162.0</td>\n",
              "      <td>-1.0</td>\n",
              "      <td>1,00</td>\n",
              "      <td>2018-01-01_784830_860.0</td>\n",
              "    </tr>\n",
              "  </tbody>\n",
              "</table>\n",
              "</div>"
            ],
            "text/plain": [
              "        sale_date_date contact_id  shop_id  product_id  \\\n",
              "6717817     2018-01-01    1918867   1517.0    124688.0   \n",
              "6666893     2018-01-01     843451    837.0     78119.0   \n",
              "6666892     2018-01-01     698663    138.0     41126.0   \n",
              "6666891     2018-01-01     753645    553.0    146960.0   \n",
              "6666890     2018-01-01     764682    138.0    131016.0   \n",
              "6666889     2018-01-01     730404    862.0    109932.0   \n",
              "6666888     2018-01-01     572634     99.0    144262.0   \n",
              "6666887     2018-01-01     784830    860.0     79490.0   \n",
              "\n",
              "         product_sub_category_id  product_category_id  brand_id quantity  \\\n",
              "6717817                    575.0                129.0      -1.0     1,00   \n",
              "6666893                    648.0                148.0      -1.0     1,00   \n",
              "6666892                    403.0                 92.0      -1.0     1,00   \n",
              "6666891                    906.0                205.0      -1.0     1,00   \n",
              "6666890                    575.0                129.0      -1.0     1,00   \n",
              "6666889                    569.0                128.0    1520.0     1,00   \n",
              "6666888                    397.0                 90.0      -1.0     1,00   \n",
              "6666887                    700.0                162.0      -1.0     1,00   \n",
              "\n",
              "                           key_col  \n",
              "6717817  2018-01-01_1918867_1517.0  \n",
              "6666893    2018-01-01_843451_837.0  \n",
              "6666892    2018-01-01_698663_138.0  \n",
              "6666891    2018-01-01_753645_553.0  \n",
              "6666890    2018-01-01_764682_138.0  \n",
              "6666889    2018-01-01_730404_862.0  \n",
              "6666888     2018-01-01_572634_99.0  \n",
              "6666887    2018-01-01_784830_860.0  "
            ]
          },
          "execution_count": 25,
          "metadata": {},
          "output_type": "execute_result"
        }
      ],
      "source": [
        "checks[:8]"
      ]
    },
    {
      "cell_type": "code",
      "execution_count": 23,
      "metadata": {},
      "outputs": [
        {
          "data": {
            "text/html": [
              "<div>\n",
              "<style scoped>\n",
              "    .dataframe tbody tr th:only-of-type {\n",
              "        vertical-align: middle;\n",
              "    }\n",
              "\n",
              "    .dataframe tbody tr th {\n",
              "        vertical-align: top;\n",
              "    }\n",
              "\n",
              "    .dataframe thead th {\n",
              "        text-align: right;\n",
              "    }\n",
              "</style>\n",
              "<table border=\"1\" class=\"dataframe\">\n",
              "  <thead>\n",
              "    <tr style=\"text-align: right;\">\n",
              "      <th></th>\n",
              "      <th>sale_date_date</th>\n",
              "      <th>contact_id</th>\n",
              "      <th>shop_id</th>\n",
              "      <th>product_id</th>\n",
              "      <th>product_sub_category_id</th>\n",
              "      <th>product_category_id</th>\n",
              "      <th>brand_id</th>\n",
              "      <th>quantity</th>\n",
              "      <th>key_col</th>\n",
              "    </tr>\n",
              "  </thead>\n",
              "  <tbody>\n",
              "    <tr>\n",
              "      <th>10019023</th>\n",
              "      <td>2018-04-09</td>\n",
              "      <td>1063173</td>\n",
              "      <td>835.0</td>\n",
              "      <td>110310.0</td>\n",
              "      <td>431.0</td>\n",
              "      <td>101.0</td>\n",
              "      <td>-1.0</td>\n",
              "      <td>1,00</td>\n",
              "      <td>2018-04-09_1063173_835.0</td>\n",
              "    </tr>\n",
              "    <tr>\n",
              "      <th>7065933</th>\n",
              "      <td>2018-03-01</td>\n",
              "      <td>497479</td>\n",
              "      <td>267.0</td>\n",
              "      <td>70966.0</td>\n",
              "      <td>738.0</td>\n",
              "      <td>170.0</td>\n",
              "      <td>-1.0</td>\n",
              "      <td>1,00</td>\n",
              "      <td>2018-03-01_497479_267.0</td>\n",
              "    </tr>\n",
              "    <tr>\n",
              "      <th>15841310</th>\n",
              "      <td>2018-05-24</td>\n",
              "      <td>1041721</td>\n",
              "      <td>331.0</td>\n",
              "      <td>35007.0</td>\n",
              "      <td>736.0</td>\n",
              "      <td>170.0</td>\n",
              "      <td>-1.0</td>\n",
              "      <td>1,00</td>\n",
              "      <td>2018-05-24_1041721_331.0</td>\n",
              "    </tr>\n",
              "    <tr>\n",
              "      <th>12830328</th>\n",
              "      <td>2018-04-10</td>\n",
              "      <td>1044448</td>\n",
              "      <td>313.0</td>\n",
              "      <td>19602.0</td>\n",
              "      <td>685.0</td>\n",
              "      <td>160.0</td>\n",
              "      <td>-1.0</td>\n",
              "      <td>1,00</td>\n",
              "      <td>2018-04-10_1044448_313.0</td>\n",
              "    </tr>\n",
              "  </tbody>\n",
              "</table>\n",
              "</div>"
            ],
            "text/plain": [
              "         sale_date_date contact_id  shop_id  product_id  \\\n",
              "10019023     2018-04-09    1063173    835.0    110310.0   \n",
              "7065933      2018-03-01     497479    267.0     70966.0   \n",
              "15841310     2018-05-24    1041721    331.0     35007.0   \n",
              "12830328     2018-04-10    1044448    313.0     19602.0   \n",
              "\n",
              "          product_sub_category_id  product_category_id  brand_id quantity  \\\n",
              "10019023                    431.0                101.0      -1.0     1,00   \n",
              "7065933                     738.0                170.0      -1.0     1,00   \n",
              "15841310                    736.0                170.0      -1.0     1,00   \n",
              "12830328                    685.0                160.0      -1.0     1,00   \n",
              "\n",
              "                           key_col  \n",
              "10019023  2018-04-09_1063173_835.0  \n",
              "7065933    2018-03-01_497479_267.0  \n",
              "15841310  2018-05-24_1041721_331.0  \n",
              "12830328  2018-04-10_1044448_313.0  "
            ]
          },
          "execution_count": 23,
          "metadata": {},
          "output_type": "execute_result"
        }
      ],
      "source": [
        "train[:4]"
      ]
    },
    {
      "cell_type": "code",
      "execution_count": 24,
      "metadata": {},
      "outputs": [
        {
          "data": {
            "text/html": [
              "<div>\n",
              "<style scoped>\n",
              "    .dataframe tbody tr th:only-of-type {\n",
              "        vertical-align: middle;\n",
              "    }\n",
              "\n",
              "    .dataframe tbody tr th {\n",
              "        vertical-align: top;\n",
              "    }\n",
              "\n",
              "    .dataframe thead th {\n",
              "        text-align: right;\n",
              "    }\n",
              "</style>\n",
              "<table border=\"1\" class=\"dataframe\">\n",
              "  <thead>\n",
              "    <tr style=\"text-align: right;\">\n",
              "      <th></th>\n",
              "      <th>sale_date_date</th>\n",
              "      <th>contact_id</th>\n",
              "      <th>shop_id</th>\n",
              "      <th>product_id</th>\n",
              "      <th>product_sub_category_id</th>\n",
              "      <th>product_category_id</th>\n",
              "      <th>brand_id</th>\n",
              "      <th>quantity</th>\n",
              "      <th>key_col</th>\n",
              "    </tr>\n",
              "  </thead>\n",
              "  <tbody>\n",
              "    <tr>\n",
              "      <th>13638121</th>\n",
              "      <td>2018-04-21</td>\n",
              "      <td>270556</td>\n",
              "      <td>264.0</td>\n",
              "      <td>108457.0</td>\n",
              "      <td>597.0</td>\n",
              "      <td>135.0</td>\n",
              "      <td>1348.0</td>\n",
              "      <td>1,00</td>\n",
              "      <td>2018-04-21_270556_264.0</td>\n",
              "    </tr>\n",
              "    <tr>\n",
              "      <th>9652662</th>\n",
              "      <td>2018-03-27</td>\n",
              "      <td>177608</td>\n",
              "      <td>332.0</td>\n",
              "      <td>102814.0</td>\n",
              "      <td>738.0</td>\n",
              "      <td>170.0</td>\n",
              "      <td>-1.0</td>\n",
              "      <td>1,00</td>\n",
              "      <td>2018-03-27_177608_332.0</td>\n",
              "    </tr>\n",
              "    <tr>\n",
              "      <th>16754402</th>\n",
              "      <td>2018-05-21</td>\n",
              "      <td>2493934</td>\n",
              "      <td>309.0</td>\n",
              "      <td>104644.0</td>\n",
              "      <td>595.0</td>\n",
              "      <td>135.0</td>\n",
              "      <td>-1.0</td>\n",
              "      <td>1,00</td>\n",
              "      <td>2018-05-21_2493934_309.0</td>\n",
              "    </tr>\n",
              "    <tr>\n",
              "      <th>8370877</th>\n",
              "      <td>2018-03-14</td>\n",
              "      <td>63937</td>\n",
              "      <td>307.0</td>\n",
              "      <td>76973.0</td>\n",
              "      <td>-1.0</td>\n",
              "      <td>-1.0</td>\n",
              "      <td>-1.0</td>\n",
              "      <td>1,00</td>\n",
              "      <td>2018-03-14_63937_307.0</td>\n",
              "    </tr>\n",
              "  </tbody>\n",
              "</table>\n",
              "</div>"
            ],
            "text/plain": [
              "         sale_date_date contact_id  shop_id  product_id  \\\n",
              "13638121     2018-04-21     270556    264.0    108457.0   \n",
              "9652662      2018-03-27     177608    332.0    102814.0   \n",
              "16754402     2018-05-21    2493934    309.0    104644.0   \n",
              "8370877      2018-03-14      63937    307.0     76973.0   \n",
              "\n",
              "          product_sub_category_id  product_category_id  brand_id quantity  \\\n",
              "13638121                    597.0                135.0    1348.0     1,00   \n",
              "9652662                     738.0                170.0      -1.0     1,00   \n",
              "16754402                    595.0                135.0      -1.0     1,00   \n",
              "8370877                      -1.0                 -1.0      -1.0     1,00   \n",
              "\n",
              "                           key_col  \n",
              "13638121   2018-04-21_270556_264.0  \n",
              "9652662    2018-03-27_177608_332.0  \n",
              "16754402  2018-05-21_2493934_309.0  \n",
              "8370877     2018-03-14_63937_307.0  "
            ]
          },
          "execution_count": 24,
          "metadata": {},
          "output_type": "execute_result"
        }
      ],
      "source": [
        "test[:4]"
      ]
    },
    {
      "cell_type": "code",
      "execution_count": 7,
      "metadata": {
        "id": "WNlDG4tl1n8e"
      },
      "outputs": [
        {
          "name": "stderr",
          "output_type": "stream",
          "text": [
            "C:\\Users\\vsevolod.volkov\\AppData\\Local\\Temp\\ipykernel_2832\\1661400268.py:31: TqdmDeprecationWarning: This function will be removed in tqdm==5.0.0\n",
            "Please use `tqdm.notebook.tqdm` instead of `tqdm.tqdm_notebook`\n",
            "  for name in tqdm_notebook(product_dict.keys()):\n"
          ]
        },
        {
          "data": {
            "application/json": {
              "ascii": false,
              "bar_format": null,
              "colour": null,
              "elapsed": 0.01798868179321289,
              "initial": 0,
              "n": 0,
              "ncols": null,
              "nrows": null,
              "postfix": null,
              "prefix": "",
              "rate": null,
              "total": 30418,
              "unit": "it",
              "unit_divisor": 1000,
              "unit_scale": false
            },
            "application/vnd.jupyter.widget-view+json": {
              "model_id": "b776d47edc7f40cb9643934dfdbb2529",
              "version_major": 2,
              "version_minor": 0
            },
            "text/plain": [
              "  0%|          | 0/30418 [00:00<?, ?it/s]"
            ]
          },
          "metadata": {},
          "output_type": "display_data"
        },
        {
          "data": {
            "text/plain": [
              "True"
            ]
          },
          "execution_count": 7,
          "metadata": {},
          "output_type": "execute_result"
        }
      ],
      "source": [
        "# Обучим простые контетные рекомендации\n",
        "\n",
        "# Для фильтрации пунктуации\n",
        "exclude = set(string.punctuation)\n",
        "# Для приведения слов в начальной форме\n",
        "morpher = MorphAnalyzer()\n",
        "\n",
        "# Для фильтрации стоп-слов\n",
        "sw = get_stop_words(\"ru\")\n",
        "\n",
        "def preprocess_txt(line):\n",
        "    spls = \"\".join(i for i in str(line).strip() if i not in exclude).split()\n",
        "    spls = [morpher.parse(i.lower())[0].normal_form for i in spls]\n",
        "    spls = [i for i in spls if i not in sw and i != \"\"]\n",
        "    return spls\n",
        "\n",
        "sentences = [preprocess_txt(k) for k in product_dict.keys()]\n",
        "\n",
        "# Подготовим кандидатогенератор, который будет отдавать фильмы похожие по текстовому описанию на те, которые оенил пользователь\n",
        "# Обучим Fasttext и заэмбедим фильмы\n",
        "modelFT = FastText(sentences=sentences, vector_size=20, min_count=1, window=5)\n",
        "\n",
        "# Для того, чтобы быстро находить айтемы положим эмбединги их тайтлов в ANN индекс\n",
        "# Создадим объект индекса\n",
        "ft_index_names = annoy.AnnoyIndex(20 ,'angular')\n",
        "\n",
        "# Будем хранить соответствия не только id-> фильм, но и фильм-> id, чтобы быстрее находить эмбеддинги айтемов\n",
        "reverse_index_map = {}\n",
        "counter = 0\n",
        "\n",
        "for name in tqdm_notebook(product_dict.keys()):\n",
        "    n_ft = 0\n",
        "    reverse_index_map[counter] = name\n",
        "    vector_ft = np.zeros(20)\n",
        "    # Каждое слово обернем в эмбеддинг\n",
        "    for word in preprocess_txt(name):\n",
        "        if word in modelFT.wv:\n",
        "            vector_ft += modelFT.wv[word]\n",
        "            n_ft += 1\n",
        "    if n_ft > 0:\n",
        "        vector_ft = vector_ft / n_ft\n",
        "    ft_index_names.add_item(counter, vector_ft)\n",
        "    counter += 1\n",
        "\n",
        "# \n",
        "ft_index_names.build(10)"
      ]
    },
    {
      "cell_type": "code",
      "execution_count": 8,
      "metadata": {
        "id": "AgJvnjSP1n8e"
      },
      "outputs": [],
      "source": [
        "reverse_item_mapping = {v: k for k, v in product_dict.items()}\n",
        "\n",
        "def recommend(items_list):\n",
        "    current_vector = np.zeros(20)\n",
        "    c = len(items_list)\n",
        "    for iid in items_list:\n",
        "        iname = product_dict[iid]\n",
        "        if iname not in reverse_index_map:\n",
        "            c -= 1\n",
        "            continue\n",
        "        current_vector += np.array(ft_index_names.get_item_vector[reverse_index_map[iname]])\n",
        "    return [product_dict[reverse_index_map[i]] for i in ft_index_names.get_nns_by_vector(current_vector / c, 10)]"
      ]
    },
    {
      "cell_type": "code",
      "execution_count": 9,
      "metadata": {
        "id": "eil_GO2q1n8f"
      },
      "outputs": [
        {
          "name": "stderr",
          "output_type": "stream",
          "text": [
            "C:\\Users\\vsevolod.volkov\\AppData\\Local\\Temp\\ipykernel_2832\\3531675664.py:12: RuntimeWarning: invalid value encountered in true_divide\n",
            "  return [product_dict[reverse_index_map[i]] for i in ft_index_names.get_nns_by_vector(current_vector / c, 10)]\n"
          ]
        },
        {
          "data": {
            "text/plain": [
              "['(35743) Шприцы одноразовые с иглой 5мл N1 762',\n",
              " '(56964) Линекс пор. лиоф. капс. №32 600',\n",
              " '(63827) Аркоксиа табл. п.п.о.90мг №7 647',\n",
              " '(87309) Минеральная вода Винцентка 0,7л 569',\n",
              " '(104883) Бальзам \"Дикуля\" Форте при заболеваниях позвоночника и суставов 75мл 718',\n",
              " '(67898) Фламакс форте табл. п.п.о 100мг N20 397',\n",
              " '(49051) Лавомакс таб.п.о.125мг №6 705',\n",
              " '(122344) Зизу Салфетки влажные для снятия макияжа с мицеллярной водой №10 496',\n",
              " '(180072) Норева Ксеродиан Плюс Крем для лица и тела пенящийся очищающий 500мл 496',\n",
              " '(56035) Фиточай Стевия 1г №20 611']"
            ]
          },
          "execution_count": 9,
          "metadata": {},
          "output_type": "execute_result"
        }
      ],
      "source": [
        "recommend(['52539', '110342'])"
      ]
    },
    {
      "cell_type": "code",
      "execution_count": 10,
      "metadata": {
        "id": "I4jrOD771n8f",
        "outputId": "40a3f3f0-b6eb-450c-d731-41cf485c263a"
      },
      "outputs": [],
      "source": [
        "# Обучение эмбеддингов по последовательности\n",
        "from gensim.models import Word2Vec\n",
        "\n",
        "train['product_id'] = train['product_id'].apply(int).apply(str)\n",
        "\n",
        "grouped = train.groupby('key_col')\n",
        "sentences = []"
      ]
    },
    {
      "cell_type": "code",
      "execution_count": 11,
      "metadata": {
        "colab": {
          "referenced_widgets": [
            "f44a5b29465247c18019000eb56ed8b9"
          ]
        },
        "id": "tGgezbwj1n8g",
        "outputId": "20201a75-953a-416c-a9a9-b085fc522526",
        "scrolled": true
      },
      "outputs": [
        {
          "name": "stderr",
          "output_type": "stream",
          "text": [
            "C:\\Users\\vsevolod.volkov\\AppData\\Local\\Temp\\ipykernel_2832\\1066363157.py:5: TqdmDeprecationWarning: This function will be removed in tqdm==5.0.0\n",
            "Please use `tqdm.notebook.tqdm` instead of `tqdm.tqdm_notebook`\n",
            "  for group in tqdm_notebook(grouped.groups):\n"
          ]
        },
        {
          "data": {
            "application/json": {
              "ascii": false,
              "bar_format": null,
              "colour": null,
              "elapsed": 0.01897716522216797,
              "initial": 0,
              "n": 0,
              "ncols": null,
              "nrows": null,
              "postfix": null,
              "prefix": "",
              "rate": null,
              "total": 5457574,
              "unit": "it",
              "unit_divisor": 1000,
              "unit_scale": false
            },
            "application/vnd.jupyter.widget-view+json": {
              "model_id": "983b56329921432ea987f92a7def7acc",
              "version_major": 2,
              "version_minor": 0
            },
            "text/plain": [
              "  0%|          | 0/5457574 [00:00<?, ?it/s]"
            ]
          },
          "metadata": {},
          "output_type": "display_data"
        }
      ],
      "source": [
        "# Сформируем последовательности\n",
        "\n",
        "from tqdm import tqdm \n",
        "sentences = []\n",
        "for group in tqdm_notebook(grouped.groups):\n",
        "    products = grouped.get_group(group)['product_id'].values\n",
        "    if len(products) < 3:\n",
        "        continue\n",
        "    sentences.append(list(products))"
      ]
    },
    {
      "cell_type": "code",
      "execution_count": 13,
      "metadata": {
        "id": "NM412GSU1n8h"
      },
      "outputs": [],
      "source": [
        "modelW2V = Word2Vec(sentences, vector_size=10)"
      ]
    },
    {
      "cell_type": "code",
      "execution_count": 14,
      "metadata": {
        "id": "qUGOzOqn1n8h",
        "outputId": "e1bf1426-8702-4a4b-9f89-43f493e2d2e5"
      },
      "outputs": [
        {
          "data": {
            "text/plain": [
              "['115617', '142296', '37070']"
            ]
          },
          "execution_count": 14,
          "metadata": {},
          "output_type": "execute_result"
        }
      ],
      "source": [
        "sentences[0]"
      ]
    },
    {
      "cell_type": "code",
      "execution_count": 16,
      "metadata": {
        "id": "_tmLBMRz1n8h",
        "outputId": "7ca846ae-4af2-4cc9-dd8a-d68cf1102a61"
      },
      "outputs": [
        {
          "data": {
            "text/plain": [
              "<bound method KeyedVectors.similar_by_vector of <gensim.models.keyedvectors.KeyedVectors object at 0x000001E477776160>>"
            ]
          },
          "execution_count": 16,
          "metadata": {},
          "output_type": "execute_result"
        }
      ],
      "source": [
        "modelW2V.wv.similar_by_vector"
      ]
    },
    {
      "cell_type": "code",
      "execution_count": 19,
      "metadata": {
        "id": "6bhlwjwC1n8i"
      },
      "outputs": [],
      "source": [
        "def recommend_w2v(items_list):\n",
        "    current_vector = np.zeros(10)\n",
        "    c = len(items_list)\n",
        "    for iid in items_list:\n",
        "        iname = product_dict[iid]\n",
        "        if iname not in modelW2V.wv:\n",
        "            c -= 1\n",
        "            continue\n",
        "        current_vector += np.array(modelW2V.wv[reverse_index_map[iname]])\n",
        "    return [product_dict[i[0]] for i in modelW2V.wv.similar_by_vector(current_vector / c, 10)]"
      ]
    },
    {
      "cell_type": "code",
      "execution_count": 20,
      "metadata": {
        "id": "ga2A4ifk1n8i",
        "outputId": "0f807d91-bf78-4a33-a100-dc94b3b47280"
      },
      "outputs": [
        {
          "name": "stderr",
          "output_type": "stream",
          "text": [
            "C:\\Users\\vsevolod.volkov\\AppData\\Local\\Temp\\ipykernel_2832\\1051936176.py:10: RuntimeWarning: invalid value encountered in true_divide\n",
            "  return [product_dict[i[0]] for i in modelW2V.wv.similar_by_vector(current_vector / c, 10)]\n"
          ]
        },
        {
          "data": {
            "text/plain": [
              "['(181271) Зубная паста Колгейт Древние секреты Безупречная Свежесть 75мл 529',\n",
              " '(67162) Габагамма капс. 300мг №50 641',\n",
              " '(187610) Гиалрипайер-10 Хондрорепарант гель гиалуроновый д/инъек.фл.0,8% 5мл №1 646',\n",
              " '(106823) ЛОкситан Шампунь Сила и Густота 300мл 476',\n",
              " '(192300) PL Перчатки латексные нестерильные р.M №10 675',\n",
              " '(67740) Аторвастатин таб.п.п.о.20мг №30 685',\n",
              " '(66406) Ополаскиватель д/полости рта Лакалют Уайт 300мл -1',\n",
              " '(35332) СТИКС Крем \"Авокадо\" 50 мл, уп №1 (150) 498',\n",
              " '(3434) Чай \"Волшебная сила\" [фильтр-пакеты 2г] N20 -1',\n",
              " '(183248) Катетер-баллон \"Фолея\" 2-х ходовой (№18) №1 761']"
            ]
          },
          "execution_count": 20,
          "metadata": {},
          "output_type": "execute_result"
        }
      ],
      "source": [
        "recommend_w2v(['99821', '138583', '45321', '134475'])"
      ]
    }
  ],
  "metadata": {
    "colab": {
      "collapsed_sections": [],
      "provenance": []
    },
    "kernelspec": {
      "display_name": "Python 3.9.13 64-bit",
      "language": "python",
      "name": "python3"
    },
    "language_info": {
      "codemirror_mode": {
        "name": "ipython",
        "version": 3
      },
      "file_extension": ".py",
      "mimetype": "text/x-python",
      "name": "python",
      "nbconvert_exporter": "python",
      "pygments_lexer": "ipython3",
      "version": "3.9.13"
    },
    "vscode": {
      "interpreter": {
        "hash": "20e0411d6d37670f7ff2fe9b9e2c31fabc9d5997a01474d14773f9d8fd25341d"
      }
    }
  },
  "nbformat": 4,
  "nbformat_minor": 0
}
